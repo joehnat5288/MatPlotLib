{
 "cells": [
  {
   "cell_type": "code",
   "execution_count": null,
   "metadata": {},
   "outputs": [],
   "source": [
    "# Dependencies and Setup\n",
    "%matplotlib inline\n",
    "import pandas as pd\n",
    "import matplotlib.pyplot as plt\n",
    "import numpy as np\n",
    "\n",
    "# Hide warning messages in notebook\n",
    "import warnings\n",
    "warnings.filterwarnings('ignore')\n",
    "\n",
    "mouse = \"data/mouse_drug_data.csv\"\n",
    "results = \"data/clinicaltrial_data.csv\"\n",
    "\n",
    "# Read the mouse data and the study results\n",
    "\n",
    "mouse = pd.read_csv(\"data/mouse_drug_data.csv\")\n",
    "results = pd.read_csv(\"data/clinicaltrial_data.csv\")\n",
    "\n",
    "\n",
    "# Combine the data into a single dataset\n",
    "\n",
    "pymaceuticals_complete = pd.merge(results, mouse, how=\"left\", on=[\"Mouse ID\", \"Mouse ID\"])\n",
    "\n",
    "\n",
    "mouse.head()\n",
    "results.head()\n",
    "pymaceuticals_complete.head()\n"
   ]
  },
  {
   "cell_type": "code",
   "execution_count": null,
   "metadata": {},
   "outputs": [],
   "source": [
    "\n",
    "#Rename columns\n",
    "pymaceuticals_complete = pymaceuticals_complete.rename(columns={\"Tumor Volume (mm3)\": \"Volume\"})\n",
    "\n",
    "pymaceuticals_complete = pymaceuticals_complete[pymaceuticals_complete[\"Drug\"].isin([\"Capomulin\", \"Infubinol\", \"Ketapril\", \"Placebo\"])]\n",
    "\n",
    "pymaceuticals_complete.head()                           "
   ]
  },
  {
   "cell_type": "code",
   "execution_count": null,
   "metadata": {},
   "outputs": [],
   "source": [
    "#Standard Error....this is count in the homework\n",
    "sem_drug = pymaceuticals_complete.groupby('Drug').sem()\n",
    "\n",
    "drug_results_grp = pymaceuticals_complete.groupby(['Drug', 'Timepoint']).sem()\n",
    "drug_results_grp.head()"
   ]
  },
  {
   "cell_type": "code",
   "execution_count": null,
   "metadata": {},
   "outputs": [],
   "source": [
    "drug_tumor_sem_df = pd.DataFrame(drug_results_grp.reset_index())\n",
    "drug_tumor_sem_df.head()\n"
   ]
  },
  {
   "cell_type": "code",
   "execution_count": 7,
   "metadata": {},
   "outputs": [
    {
     "ename": "NameError",
     "evalue": "name 'drug_tumor_avg_df' is not defined",
     "output_type": "error",
     "traceback": [
      "\u001b[1;31m---------------------------------------------------------------------------\u001b[0m",
      "\u001b[1;31mNameError\u001b[0m                                 Traceback (most recent call last)",
      "\u001b[1;32m<ipython-input-7-adfe9efc3546>\u001b[0m in \u001b[0;36m<module>\u001b[1;34m\u001b[0m\n\u001b[0;32m      1\u001b[0m \u001b[1;31m#Capomulin\u001b[0m\u001b[1;33m\u001b[0m\u001b[1;33m\u001b[0m\u001b[1;33m\u001b[0m\u001b[0m\n\u001b[1;32m----> 2\u001b[1;33m \u001b[0mcapo_means\u001b[0m \u001b[1;33m=\u001b[0m \u001b[0mdrug_tumor_avg_df\u001b[0m\u001b[1;33m.\u001b[0m\u001b[0mloc\u001b[0m\u001b[1;33m[\u001b[0m\u001b[1;33m:\u001b[0m\u001b[1;33m,\u001b[0m \u001b[1;33m[\u001b[0m\u001b[1;34m'Capomulin'\u001b[0m\u001b[1;33m]\u001b[0m\u001b[1;33m]\u001b[0m\u001b[1;33m\u001b[0m\u001b[1;33m\u001b[0m\u001b[0m\n\u001b[0m\u001b[0;32m      3\u001b[0m \u001b[0mcapo_means\u001b[0m \u001b[1;33m=\u001b[0m \u001b[0mcapo_means\u001b[0m\u001b[1;33m[\u001b[0m\u001b[1;34m'Capomulin'\u001b[0m\u001b[1;33m]\u001b[0m\u001b[1;33m\u001b[0m\u001b[1;33m\u001b[0m\u001b[0m\n\u001b[0;32m      4\u001b[0m \u001b[1;33m\u001b[0m\u001b[0m\n\u001b[0;32m      5\u001b[0m \u001b[0mcapo_sem\u001b[0m \u001b[1;33m=\u001b[0m \u001b[0mdrug_tumor_sem_df\u001b[0m\u001b[1;33m.\u001b[0m\u001b[0mloc\u001b[0m\u001b[1;33m[\u001b[0m\u001b[1;33m:\u001b[0m\u001b[1;33m,\u001b[0m \u001b[1;33m[\u001b[0m\u001b[1;34m'Capomulin'\u001b[0m\u001b[1;33m]\u001b[0m\u001b[1;33m]\u001b[0m\u001b[1;33m\u001b[0m\u001b[1;33m\u001b[0m\u001b[0m\n",
      "\u001b[1;31mNameError\u001b[0m: name 'drug_tumor_avg_df' is not defined"
     ]
    }
   ],
   "source": [
    "#Capomulin\n",
    "capo_means = pymaceuticals_complete.loc[:, ['Capomulin']]\n",
    "capo_means = capo_means['Capomulin']\n",
    "\n",
    "capo_sem = pymaceuticals_complete.loc[:, ['Capomulin']]\n",
    "capo_sem = capo_sem['Capomulin']\n",
    "\n",
    "#Infubinol\n",
    "infub_means = pymaceuticals_complete.loc[:, ['Infubinol']]\n",
    "infub_means = infub_means['Infubinol']\n",
    "\n",
    "infub_sem = pymaceuticals_complete.loc[:, ['Infubinol']]\n",
    "infub_sem = infub_sem['Infubinol']\n",
    "\n",
    "#Ketapril\n",
    "keta_means = pymaceuticals_complete.loc[:, ['Ketapril']]\n",
    "keta_means = keta_means['Ketapril']\n",
    "\n",
    "keta_sem = drug_tumor_sem_df.loc[:, ['Ketapril']]\n",
    "keta_sem = keta_sem['Ketapril']\n",
    "\n",
    "#Placebo\n",
    "placebo_means = drug_tumor_avg_df.loc[:, ['Placebo']]\n",
    "placebo_means = placebo_means['Placebo']\n",
    "\n",
    "placebo_sem = drug_tumor_sem_df.loc[:, ['Placebo']]\n",
    "placebo_sem = placebo_sem['Placebo']\n",
    "\n",
    "# Generate the Plot (with Error Bars)\n",
    "\n",
    "#Get min and max values for the avg tumor volume so we set limits on the plot\n",
    "min_volume = drug_tumor_sum_df.min()['Average Volume']\n",
    "max_volume = drug_tumor_sum_df.max()['Average Volume']\n",
    "\n",
    "#add/subtract 5 from the min and max volumes to give some additional white space on the plot\n",
    "min_volume = min_volume - 5\n",
    "max_volume = max_volume + 5\n",
    "\n",
    "#Use the hls color space from Seaborn to give the plot a prettier look\n",
    "current_palette_4 = sns.color_palette(\"hls\", 4)\n",
    "sns.set_palette(current_palette_4)\n",
    "\n",
    "#Assign limits, turn on the background grid and create a title and labels\n",
    "plt.grid(True)\n",
    "plt.ylim(min_volume, max_volume)\n",
    "plt.ylabel(\"Tumor Volume (mm3)\")\n",
    "plt.xlabel(\"Treatment Duration (Days)\")\n",
    "plt.title(\"Tumor Response to Treatment\")\n",
    "\n",
    "\n",
    "#Plot the average tumor size over time for each drug (with error bars)\n",
    "\n",
    "#The values for the x-axis will be the timepoints\n",
    "time = list(drug_tumor_avg_df.index.values)\n",
    "\n",
    "#Plot Capomulin\n",
    "plt.errorbar(time, capo_means, capo_sem, marker = \"*\", ms = 10, label = \"Capomulin\")\n",
    "\n",
    "#Plot Infubinol\n",
    "plt.errorbar(time, infub_means, infub_sem, marker = \"s\", ms = 8, label = \"Infubinol\")\n",
    "\n",
    "#Plot Ketapril\n",
    "plt.errorbar(time, keta_means, keta_sem, marker = \"o\", ms= 8, label = \"Ketapril\")\n",
    "\n",
    "#Plot Placebo\n",
    "plt.errorbar(time, placebo_means, placebo_sem, marker = \"x\", ms= 8, label = \"Placebo\")\n",
    "\n",
    "#Add a legend, save the plot as a png file and then show the plot\n",
    "plt.legend(frameon=True)\n",
    "\n",
    "plt.savefig('Tumor Response.png') \n",
    "\n",
    "plt.show()\n"
   ]
  },
  {
   "cell_type": "code",
   "execution_count": null,
   "metadata": {},
   "outputs": [],
   "source": [
    "#set x_axis\n",
    "x_axis=np.arange(0,50,5)\n",
    "\n",
    "#set a marker list \n",
    "marker_list=['.', ',', 'o', 'v', '^', 's', 'p', '*','D','d']\n",
    "\n",
    "#set up a figure with a decent size\n",
    "fig1=plt.figure(figsize=(10,10))\n",
    "\n",
    "#set ax1 as add subplot\n",
    "ax1 = fig1.add_subplot(111)\n",
    "\n",
    "#use a for loop to extract all the mean for all timepoints for each drug one by one\n",
    "#use i to access different markers in marker_list\n",
    "i=0\n",
    "for drug in mean_tumor_volume.columns:\n",
    "    ax1.errorbar(x_axis,mean_tumor_volume[drug],yerr=sem_tumor_volume[drug],fmt=marker_list[i],\\\n",
    "                 barsabove=True,capsize=2,linestyle='dotted',label=drug)\n",
    "    i+=1\n",
    "\n",
    "#adjust plot properties\n",
    "plt.legend(loc='upper left')\n",
    "plt.title('Tumor Response to Treatment',fontsize=14,fontweight='bold')\n",
    "plt.xlim(min(x_axis),max(x_axis)+1)\n",
    "plt.xticks(x_axis)\n",
    "plt.xlabel('Time (Days)',fontsize=12)\n",
    "plt.ylabel('Tumor Volume(mm3)',fontsize=12)\n",
    "plt.grid(linestyle='dotted')\n",
    "plt.show()\n"
   ]
  },
  {
   "cell_type": "code",
   "execution_count": null,
   "metadata": {},
   "outputs": [],
   "source": [
    "#Store the Mean Tumor Volume Data Grouped by Drug and Timepoint \n",
    "\n",
    "#First get rid of the number of metastatic sites and mice for this analysis because we don't need them\n",
    "\n",
    "drug_results_tumor_df = pd.DataFrame({'Drug' : drug_results_df['Drug'], 'Timepoint' : drug_results_df['Timepoint'], \n",
    "                                     'Volume' : drug_results_df['Volume']})\n",
    "\n",
    "#Get the average tumor volume for each drug/timepoint group and then put results into a new dataframe\n",
    "drug_results_grp = drug_results_tumor_df.groupby(['Drug', 'Timepoint'])\n",
    "drug_results_grp.mean()\n",
    "\n",
    "drug_tumor_sum_df = pd.DataFrame(drug_results_grp.mean().reset_index())\n",
    "drug_tumor_sum_df.head(10)\n",
    "\n",
    "#rename the Volume column Average Volume\n",
    "\n",
    "drug_tumor_sum_df.columns = ['Drug', 'Timepoint', 'Average Volume']\n",
    "drug_tumor_sum_df.head(10)"
   ]
  },
  {
   "cell_type": "code",
   "execution_count": null,
   "metadata": {},
   "outputs": [],
   "source": [
    "#Creating a scatter plot that shows how the tumor volume changes over time for each treatment.\n",
    "\n",
    "#First get rid of metastatic\n",
    "\n",
    "pymaceuticals_tumor = pd.DataFrame({\"Drug\" : pymaceuticals_complete[\"Drug\"], \"Timepoint\" : pymaceuticals_complete[\"Timepoint\"], \n",
    "                                     \"Volume\" : pymaceuticals_complete[\"Volume\"]})\n",
    "\n",
    "#Get the average tumor volume for drug/timepoint \n",
    "pymaceuticals_tumor_group = pymaceuticals_tumor.groupby([\"Drug\", \"Timepoint\"])\n",
    "pymaceuticals_tumor_group.mean()\n",
    "\n",
    "pymaceuticals_tumor_sum = pd.DataFrame(pymaceuticals_tumor_group.mean().reset_index())\n",
    "pymaceuticals_tumor.head()\n",
    "\n",
    "#Rename the Volume column Average Volume\n",
    "\n",
    "pymaceuticals_tumor_sum.columns = [\"Drug\", \"Timepoint\", \"Average Volume\"]\n",
    "pymaceuticals_tumor_sum.head()\n"
   ]
  },
  {
   "cell_type": "code",
   "execution_count": null,
   "metadata": {},
   "outputs": [],
   "source": [
    "sem_pymaceuticals = pymaceuticals_tumor_sum.groupby('Drug').sem()\n",
    "\n",
    "pymaceuticals_tumor_group = pymaceuticals_tumor.groupby(['Drug', 'Timepoint']).sem()\n",
    "pymaceuticals_tumor_group\n",
    "\n",
    "#Convert the grouped object into a dataframe and then display a preview\n",
    "drug_tumor_sem_df = pd.DataFrame(drug_results_grp.reset_index())\n",
    "drug_tumor_sem_df.head(20)\n",
    "\n",
    "#rename the Volume column to SEM\n",
    "\n",
    "drug_tumor_sem_df.columns = ['Drug', 'Timepoint', 'SEM Volume']\n",
    "drug_tumor_sem_df.head(10)"
   ]
  },
  {
   "cell_type": "code",
   "execution_count": null,
   "metadata": {},
   "outputs": [],
   "source": [
    "x_axis = [0,5,10,15,20,25,30,35,40,45]\n",
    "x_limit = 45\n",
    "plt.figure(figsize=(10,7))\n",
    "\n",
    "error = tre_df[\"Tumor Volume (mm3)\"][\"Capomulin\"]\n",
    "cap = plt.errorbar(x_axis, tumor_plot_df[\"Capomulin\"], yerr=error, fmt=\"o\", ls=\"dashed\", linewidth=1, alpha=1, capsize=3,color =\"red\")\n",
    "\n",
    "error = tre_df[\"Tumor Volume (mm3)\"][\"Infubinol\"]\n",
    "infu = plt.errorbar(x_axis, tumor_plot_df[\"Infubinol\"], yerr=error, fmt=\"^\", ls=\"dashed\", linewidth=1, alpha=1, capsize=3,color =\"blue\")\n",
    "\n",
    "error = tre_df[\"Tumor Volume (mm3)\"][\"Ketapril\"]\n",
    "keta = plt.errorbar(x_axis, tumor_plot_df[\"Ketapril\"], yerr=error, fmt=\"s\", ls=\"dashed\", linewidth=1, alpha=1, capsize=3,color = \"green\")\n",
    "\n",
    "error = tre_df[\"Tumor Volume (mm3)\"][\"Placebo\"]\n",
    "plac = plt.errorbar(x_axis, tumor_plot_df[\"Placebo\"], yerr=error, fmt=\"D\", ls=\"dashed\", linewidth=1, alpha=1, capsize=3,color = \"black\")\n",
    "\n",
    "plt.ylim(20, 80)\n",
    "plt.xlim(0, 45)\n",
    "\n",
    "plt.title(\"Tumor Response to Treatment\", fontsize=20)\n",
    "plt.xlabel(\"Time (Days)\", fontsize=14)\n",
    "plt.ylabel(\"Tumor Volume (mm3)\", fontsize=14)\n",
    "\n",
    "plt.grid(linestyle=\"dashed\")\n",
    "plt.legend((cap, infu, keta, plac), (\"Capomulin\", \"Infubinol\", \"Ketapril\", \"Placebo\"), fontsize=12)\n",
    "plt.show()"
   ]
  },
  {
   "cell_type": "code",
   "execution_count": null,
   "metadata": {},
   "outputs": [],
   "source": [
    "#Creating a scatter plot that shows how the number of metastatic sites changes over time for each treatment.\n",
    "\n"
   ]
  },
  {
   "cell_type": "code",
   "execution_count": null,
   "metadata": {},
   "outputs": [],
   "source": [
    "#Creating a scatter plot that shows the Survival Rate\n",
    "\n"
   ]
  },
  {
   "cell_type": "code",
   "execution_count": null,
   "metadata": {},
   "outputs": [],
   "source": [
    "#Creating a bar graph that compares the total % tumor volume change for each drug across the full 45 days\n",
    "\n"
   ]
  },
  {
   "cell_type": "code",
   "execution_count": null,
   "metadata": {},
   "outputs": [],
   "source": [
    "#Include 3 observations about the results of the study\n",
    "\n"
   ]
  },
  {
   "cell_type": "markdown",
   "metadata": {},
   "source": [
    "## Tumor Response to Treatment"
   ]
  },
  {
   "cell_type": "code",
   "execution_count": null,
   "metadata": {},
   "outputs": [],
   "source": [
    "#Store the Mean Tumor Volume Data Grouped by Drug and Timepoint \n",
    "\n",
    "mean_for_tumor = pd.DataFrame({\"Drug\" : pymaceuticals_complete[\"Drug\"], \"Timepoint\" : pymaceuticals_complete[\"Timepoint\"], \n",
    "                                     \"Volume\" : pymaceuticals_complete[\"Volume\"]})\n",
    "\n",
    "mean_for_tumor\n",
    "\n",
    "#Convert DataFrame\n",
    "\n",
    "pymaceuticals_tumor = pymaceuticals_tumor.groupby([\"Drug\", \"Timepoint\"])\n",
    "\n",
    "pymaceuticals_tumor.mean()\n",
    "\n",
    "pymaceuticals_tumor_sum_df = pd.DataFrame(pymaceuticals_tumor.mean().reset_index())\n",
    "pymaceuticals_tumor_sum_df.head(10)\n",
    "\n"
   ]
  },
  {
   "cell_type": "code",
   "execution_count": null,
   "metadata": {
    "scrolled": true
   },
   "outputs": [],
   "source": []
  },
  {
   "cell_type": "code",
   "execution_count": null,
   "metadata": {},
   "outputs": [],
   "source": [
    "# Store the Standard Error of Tumor Volumes Grouped by Drug and Timepoint\n",
    "\n",
    "# Convert to DataFrame\n",
    "\n",
    "# Preview DataFrame\n",
    "\n"
   ]
  },
  {
   "cell_type": "code",
   "execution_count": null,
   "metadata": {},
   "outputs": [],
   "source": []
  },
  {
   "cell_type": "code",
   "execution_count": null,
   "metadata": {},
   "outputs": [],
   "source": [
    "# Minor Data Munging to Re-Format the Data Frames\n",
    "\n",
    "# Preview that Reformatting worked\n"
   ]
  },
  {
   "cell_type": "code",
   "execution_count": null,
   "metadata": {
    "scrolled": true
   },
   "outputs": [],
   "source": []
  },
  {
   "cell_type": "code",
   "execution_count": null,
   "metadata": {},
   "outputs": [],
   "source": [
    "# Generate the Plot (with Error Bars)\n",
    "\n",
    "# Save the Figure\n",
    "\n"
   ]
  },
  {
   "cell_type": "code",
   "execution_count": null,
   "metadata": {},
   "outputs": [],
   "source": [
    "# Show the Figure\n",
    "plt.show()"
   ]
  },
  {
   "cell_type": "markdown",
   "metadata": {},
   "source": [
    "![Tumor Response to Treatment](../Images/treatment.png)"
   ]
  },
  {
   "cell_type": "markdown",
   "metadata": {},
   "source": [
    "## Metastatic Response to Treatment"
   ]
  },
  {
   "cell_type": "code",
   "execution_count": null,
   "metadata": {},
   "outputs": [],
   "source": [
    "# Store the Mean Met. Site Data Grouped by Drug and Timepoint \n",
    "\n",
    "# Convert to DataFrame\n",
    "\n",
    "# Preview DataFrame\n"
   ]
  },
  {
   "cell_type": "code",
   "execution_count": null,
   "metadata": {},
   "outputs": [],
   "source": []
  },
  {
   "cell_type": "code",
   "execution_count": null,
   "metadata": {},
   "outputs": [],
   "source": [
    "# Store the Standard Error associated with Met. Sites Grouped by Drug and Timepoint \n",
    "\n",
    "# Convert to DataFrame\n",
    "\n",
    "# Preview DataFrame\n"
   ]
  },
  {
   "cell_type": "code",
   "execution_count": null,
   "metadata": {},
   "outputs": [],
   "source": []
  },
  {
   "cell_type": "code",
   "execution_count": null,
   "metadata": {},
   "outputs": [],
   "source": [
    "# Minor Data Munging to Re-Format the Data Frames\n",
    "\n",
    "# Preview that Reformatting worked\n"
   ]
  },
  {
   "cell_type": "code",
   "execution_count": null,
   "metadata": {
    "scrolled": true
   },
   "outputs": [],
   "source": []
  },
  {
   "cell_type": "code",
   "execution_count": null,
   "metadata": {},
   "outputs": [],
   "source": [
    "# Generate the Plot (with Error Bars)\n",
    "\n",
    "# Save the Figure\n",
    "\n",
    "# Show the Figure\n"
   ]
  },
  {
   "cell_type": "markdown",
   "metadata": {},
   "source": [
    "![Metastatic Spread During Treatment](../Images/spread.png)"
   ]
  },
  {
   "cell_type": "markdown",
   "metadata": {},
   "source": [
    "## Survival Rates"
   ]
  },
  {
   "cell_type": "code",
   "execution_count": null,
   "metadata": {},
   "outputs": [],
   "source": [
    "# Store the Count of Mice Grouped by Drug and Timepoint (W can pass any metric)\n",
    "\n",
    "# Convert to DataFrame\n",
    "\n",
    "# Preview DataFrame\n"
   ]
  },
  {
   "cell_type": "code",
   "execution_count": null,
   "metadata": {},
   "outputs": [],
   "source": []
  },
  {
   "cell_type": "code",
   "execution_count": null,
   "metadata": {},
   "outputs": [],
   "source": [
    "# Minor Data Munging to Re-Format the Data Frames\n",
    "\n",
    "# Preview the Data Frame\n"
   ]
  },
  {
   "cell_type": "code",
   "execution_count": null,
   "metadata": {
    "scrolled": true
   },
   "outputs": [],
   "source": []
  },
  {
   "cell_type": "code",
   "execution_count": null,
   "metadata": {},
   "outputs": [],
   "source": [
    "# Generate the Plot (Accounting for percentages)\n",
    "\n",
    "# Save the Figure\n",
    "\n",
    "# Show the Figure\n",
    "plt.show()"
   ]
  },
  {
   "cell_type": "markdown",
   "metadata": {},
   "source": [
    "![Metastatic Spread During Treatment](../Images/survival.png)"
   ]
  },
  {
   "cell_type": "markdown",
   "metadata": {},
   "source": [
    "## Summary Bar Graph"
   ]
  },
  {
   "cell_type": "code",
   "execution_count": null,
   "metadata": {},
   "outputs": [],
   "source": [
    "# Calculate the percent changes for each drug\n",
    "\n",
    "# Display the data to confirm\n"
   ]
  },
  {
   "cell_type": "code",
   "execution_count": null,
   "metadata": {},
   "outputs": [],
   "source": []
  },
  {
   "cell_type": "code",
   "execution_count": null,
   "metadata": {},
   "outputs": [],
   "source": [
    "# Store all Relevant Percent Changes into a Tuple\n",
    "\n",
    "\n",
    "# Splice the data between passing and failing drugs\n",
    "\n",
    "\n",
    "# Orient widths. Add labels, tick marks, etc. \n",
    "\n",
    "\n",
    "# Use functions to label the percentages of changes\n",
    "\n",
    "\n",
    "# Call functions to implement the function calls\n",
    "\n",
    "\n",
    "# Save the Figure\n",
    "\n",
    "\n",
    "# Show the Figure\n",
    "fig.show()"
   ]
  },
  {
   "cell_type": "markdown",
   "metadata": {},
   "source": [
    "![Metastatic Spread During Treatment](../Images/change.png)"
   ]
  },
  {
   "cell_type": "code",
   "execution_count": null,
   "metadata": {},
   "outputs": [],
   "source": []
  }
 ],
 "metadata": {
  "anaconda-cloud": {},
  "kernelspec": {
   "display_name": "Python 3",
   "language": "python",
   "name": "python3"
  },
  "language_info": {
   "codemirror_mode": {
    "name": "ipython",
    "version": 3
   },
   "file_extension": ".py",
   "mimetype": "text/x-python",
   "name": "python",
   "nbconvert_exporter": "python",
   "pygments_lexer": "ipython3",
   "version": "3.7.3"
  }
 },
 "nbformat": 4,
 "nbformat_minor": 1
}
